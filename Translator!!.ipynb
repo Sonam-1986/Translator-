{
  "nbformat": 4,
  "nbformat_minor": 0,
  "metadata": {
    "colab": {
      "provenance": [],
      "authorship_tag": "ABX9TyMA+Mlggj2hBSKvqEl3gY7H",
      "include_colab_link": true
    },
    "kernelspec": {
      "name": "python3",
      "display_name": "Python 3"
    },
    "language_info": {
      "name": "python"
    }
  },
  "cells": [
    {
      "cell_type": "markdown",
      "metadata": {
        "id": "view-in-github",
        "colab_type": "text"
      },
      "source": [
        "<a href=\"https://colab.research.google.com/github/Sonam-1986/Translator-/blob/main/Translator!!.ipynb\" target=\"_parent\"><img src=\"https://colab.research.google.com/assets/colab-badge.svg\" alt=\"Open In Colab\"/></a>"
      ]
    },
    {
      "cell_type": "code",
      "execution_count": null,
      "metadata": {
        "colab": {
          "base_uri": "https://localhost:8080/"
        },
        "id": "x0e7FlbEZ6sP",
        "outputId": "f7ce95a7-765e-433c-db9e-d9f9c510115b"
      },
      "outputs": [
        {
          "name": "stdout",
          "output_type": "stream",
          "text": [
            "Requirement already satisfied: googletrans==4.0.0-rc1 in /usr/local/lib/python3.11/dist-packages (4.0.0rc1)\n",
            "Requirement already satisfied: httpx==0.13.3 in /usr/local/lib/python3.11/dist-packages (from googletrans==4.0.0-rc1) (0.13.3)\n",
            "Requirement already satisfied: certifi in /usr/local/lib/python3.11/dist-packages (from httpx==0.13.3->googletrans==4.0.0-rc1) (2025.7.14)\n",
            "Requirement already satisfied: hstspreload in /usr/local/lib/python3.11/dist-packages (from httpx==0.13.3->googletrans==4.0.0-rc1) (2025.1.1)\n",
            "Requirement already satisfied: sniffio in /usr/local/lib/python3.11/dist-packages (from httpx==0.13.3->googletrans==4.0.0-rc1) (1.3.1)\n",
            "Requirement already satisfied: chardet==3.* in /usr/local/lib/python3.11/dist-packages (from httpx==0.13.3->googletrans==4.0.0-rc1) (3.0.4)\n",
            "Requirement already satisfied: idna==2.* in /usr/local/lib/python3.11/dist-packages (from httpx==0.13.3->googletrans==4.0.0-rc1) (2.10)\n",
            "Requirement already satisfied: rfc3986<2,>=1.3 in /usr/local/lib/python3.11/dist-packages (from httpx==0.13.3->googletrans==4.0.0-rc1) (1.5.0)\n",
            "Requirement already satisfied: httpcore==0.9.* in /usr/local/lib/python3.11/dist-packages (from httpx==0.13.3->googletrans==4.0.0-rc1) (0.9.1)\n",
            "Requirement already satisfied: h11<0.10,>=0.8 in /usr/local/lib/python3.11/dist-packages (from httpcore==0.9.*->httpx==0.13.3->googletrans==4.0.0-rc1) (0.9.0)\n",
            "Requirement already satisfied: h2==3.* in /usr/local/lib/python3.11/dist-packages (from httpcore==0.9.*->httpx==0.13.3->googletrans==4.0.0-rc1) (3.2.0)\n",
            "Requirement already satisfied: hyperframe<6,>=5.2.0 in /usr/local/lib/python3.11/dist-packages (from h2==3.*->httpcore==0.9.*->httpx==0.13.3->googletrans==4.0.0-rc1) (5.2.0)\n",
            "Requirement already satisfied: hpack<4,>=3.0 in /usr/local/lib/python3.11/dist-packages (from h2==3.*->httpcore==0.9.*->httpx==0.13.3->googletrans==4.0.0-rc1) (3.0.0)\n",
            "Enter a word to translate: hii how are u\n",
            "Enter the target language (e.g., 'es' for Spanish, 'fr' for French): hi\n",
            "Translation of 'hii how are u' in hi: हाय आप कैसे हैं\n",
            "Translate another word? (yes/no): yes\n",
            "Enter a word to translate: hello what are u doing\n",
            "Enter the target language (e.g., 'es' for Spanish, 'fr' for French): es\n",
            "Translation of 'hello what are u doing' in es: hola que estas haciendo\n",
            "Translate another word? (yes/no): no\n"
          ]
        }
      ],
      "source": [
        "\n",
        "\n",
        "# While Google Colab doesn't have a built-in, ready-to-use attribute for this exact task,\n",
        "# we can achieve this using the googletrans library and user input features.\n",
        "\n",
        "!pip install googletrans==4.0.0-rc1\n",
        "\n",
        "from googletrans import Translator\n",
        "\n",
        "def translate_word():\n",
        "  \"\"\"Translates a word entered by the user into a specified language.\"\"\"\n",
        "\n",
        "  translator = Translator()\n",
        "\n",
        "  while True:\n",
        "    word = input(\"Enter a word to translate: \")\n",
        "    if not word:\n",
        "      print(\"Please enter a word.\")\n",
        "      continue\n",
        "\n",
        "    target_lang = input(\"Enter the target language (e.g., 'es' for Spanish, 'fr' for French): \").lower()\n",
        "    if not target_lang:\n",
        "      print(\"Please enter a target language.\")\n",
        "      continue\n",
        "\n",
        "    try:\n",
        "      translation = translator.translate(word, dest=target_lang)\n",
        "      print(f\"Translation of '{word}' in {target_lang}: {translation.text}\")\n",
        "    except Exception as e:\n",
        "      print(f\"An error occurred: {e}\")\n",
        "\n",
        "    another = input(\"Translate another word? (yes/no): \").lower()\n",
        "    if another != 'yes':\n",
        "      break\n",
        "\n",
        "translate_word()\n"
      ]
    }
  ]
}